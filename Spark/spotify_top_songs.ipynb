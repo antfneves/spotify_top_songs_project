{
 "cells": [
  {
   "cell_type": "code",
   "execution_count": null,
   "id": "69847a7d-deaa-4c2b-8909-1cf1b139fde7",
   "metadata": {},
   "outputs": [],
   "source": [
    "from pyspark.sql import SparkSession\n",
    "from pyspark.sql import functions as F"
   ]
  },
  {
   "cell_type": "code",
   "execution_count": null,
   "id": "58b1de8d-8a55-4b82-91fa-ef01f15e2233",
   "metadata": {},
   "outputs": [],
   "source": [
    "spark = SparkSession.builder \\\n",
    "  .appName('Spotify Top Songs') \\\n",
    "  .config('spark.jars.packages', 'com.google.cloud.spark:spark-3.3-bigquery:0.37.0') \\\n",
    "  .getOrCreate()"
   ]
  },
  {
   "cell_type": "code",
   "execution_count": null,
   "id": "f60bdeb8-379e-4842-b9c4-32e788da7609",
   "metadata": {},
   "outputs": [],
   "source": [
    "df = spark.read \\\n",
    "        .format(\"bigquery\") \\\n",
    "        .option(\"table\", \"dezoomcampproject.spotify.top_songs_partitoned_clustered\") \\\n",
    "        .load()"
   ]
  },
  {
   "cell_type": "code",
   "execution_count": null,
   "id": "d0c8fc72-6444-4a32-a8a6-a42d3234424a",
   "metadata": {},
   "outputs": [],
   "source": [
    "df.printSchema()\n"
   ]
  },
  {
   "cell_type": "code",
   "execution_count": null,
   "id": "a56114fe-4313-424a-ad2c-91be71e03962",
   "metadata": {},
   "outputs": [],
   "source": [
    "df.show()"
   ]
  },
  {
   "cell_type": "code",
   "execution_count": null,
   "id": "870d6027-eb09-4dd0-9a5e-8ec40579b163",
   "metadata": {},
   "outputs": [],
   "source": [
    "#Convert the column 'snapshot_date' from datetime to date.\n",
    "df= df.withColumn(\"snapshot_date\", F.to_date(F.col(\"snapshot_date\")))"
   ]
  },
  {
   "cell_type": "code",
   "execution_count": null,
   "id": "cb09ad52-d89a-451e-a60b-7ea77f09735d",
   "metadata": {},
   "outputs": [],
   "source": [
    "#Convert the column 'album_release_date' from datetime to date.\n",
    "df= df.withColumn(\"album_release_date\", F.to_date(F.col(\"album_release_date\")))\n"
   ]
  },
  {
   "cell_type": "code",
   "execution_count": null,
   "id": "4dd818bc-3005-4e63-869a-58dbc2c62a7d",
   "metadata": {},
   "outputs": [],
   "source": [
    "# Substitute null values in the 'country' column with 'Global'\n",
    "df = df.withColumn(\"country\", F.when(F.col(\"country\").isNull(), \"Global\").otherwise(F.col(\"country\")))"
   ]
  },
  {
   "cell_type": "code",
   "execution_count": null,
   "id": "0ea0b709-f341-4055-be22-0a06c4c986e8",
   "metadata": {},
   "outputs": [],
   "source": [
    "global_df = df.filter(df[\"country\"] == \"Global\")\n"
   ]
  },
  {
   "cell_type": "code",
   "execution_count": null,
   "id": "b1840273-e3ef-48bb-8d46-9f568f3baf64",
   "metadata": {},
   "outputs": [],
   "source": [
    "# Show the filtered DataFrame\n",
    "global_df.show()"
   ]
  },
  {
   "cell_type": "code",
   "execution_count": null,
   "id": "e3ea4a34-f4d8-4c8e-87fa-ea31915b3bc7",
   "metadata": {},
   "outputs": [],
   "source": [
    " # Write transformed data back to BigQuery\n",
    "df.write \\\n",
    "    .format(\"bigquery\") \\\n",
    "    .option(\"temporaryGcsBucket\", \"dezoomcampproject-terra-bucket\") \\\n",
    "    .option(\"table\", \"dezoomcampproject.spotify.top_songs_partitoned_clustered\") \\\n",
    "    .mode(\"overwrite\") \\\n",
    "    .save()"
   ]
  },
  {
   "cell_type": "code",
   "execution_count": null,
   "id": "41df2658-3867-481a-9c56-a5146e2a60ca",
   "metadata": {},
   "outputs": [],
   "source": []
  }
 ],
 "metadata": {
  "kernelspec": {
   "display_name": "Python 3 (ipykernel)",
   "language": "python",
   "name": "python3"
  },
  "language_info": {
   "codemirror_mode": {
    "name": "ipython",
    "version": 3
   },
   "file_extension": ".py",
   "mimetype": "text/x-python",
   "name": "python",
   "nbconvert_exporter": "python",
   "pygments_lexer": "ipython3",
   "version": "3.10.13"
  }
 },
 "nbformat": 4,
 "nbformat_minor": 5
}
